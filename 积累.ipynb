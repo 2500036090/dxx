
# # 了解等级的分布情况
sns.countplot(x = 'grade', order = ['B', 'C', 'D', 'A', 'G', 'E', 'F'], data = df)
